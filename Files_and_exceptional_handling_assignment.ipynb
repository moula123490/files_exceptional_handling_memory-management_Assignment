{
  "nbformat": 4,
  "nbformat_minor": 0,
  "metadata": {
    "colab": {
      "provenance": []
    },
    "kernelspec": {
      "name": "python3",
      "display_name": "Python 3"
    },
    "language_info": {
      "name": "python"
    }
  },
  "cells": [
    {
      "cell_type": "markdown",
      "source": [
        "**Theory** **questions**"
      ],
      "metadata": {
        "id": "njKZtoGce_Vo"
      }
    },
    {
      "cell_type": "markdown",
      "source": [
        "1) What is the difference between interpreted and compiled languages?\n",
        "\n",
        "- Compiled languages translate code upfront into fast, optimized binaries, but require a compile step and are typically platform-specific.\n",
        "\n",
        "- Interpreted languages run code directly line-by-line, offering quick development and portability, but usually at lower runtime speed.\n",
        "\n",
        "- Many languages today use hybrid approaches like bytecode, VMs, and JIT to enjoy advantages from both techniques."
      ],
      "metadata": {
        "id": "nNzG8wYHfORw"
      }
    },
    {
      "cell_type": "markdown",
      "source": [
        "2) What is exception handling in Python?\n",
        "- Exceptions are events that occur during program execution, disrupting the normal flow (like trying to divide by zero, accessing a missing key in a dict, etc.). Python raises built-in exceptions such as ZeroDivisionError, TypeError, IndexError, or FileNotFoundError.\n",
        "\n",
        "- Exception handling lets your program gracefully catch and handle these errors, avoiding crashes and improving robustness.\n"
      ],
      "metadata": {
        "id": "HhcA-hxegCsZ"
      }
    },
    {
      "cell_type": "markdown",
      "source": [
        "3) What is the purpose of the finally block in exception handling?\n",
        "\n",
        "- n Python, the finally block is designed to execute a specific chunk of code no matter what happens in the try or except blocks—it always runs whether an exception is raised, caught, or even not handled."
      ],
      "metadata": {
        "id": "tPMWOwm9gQux"
      }
    },
    {
      "cell_type": "markdown",
      "source": [
        "4) What is logging in Python?\n",
        "\n",
        "- Logging in Python is the practice of recording messages or events that occur during your program’s execution—this helps with monitoring, debugging, auditing, and understanding how your application behaves over time.\n"
      ],
      "metadata": {
        "id": "96WZTTFhgc34"
      }
    },
    {
      "cell_type": "markdown",
      "source": [
        "5) What is the significance of the __del__ method in Python?\n",
        "\n",
        "- In Python, the __del__ method—often referred to as a finalizer or destructor—is a special (magic or \"dunder\") method invoked when an object is about to be destroyed by the garbage collector, typically after its reference count drops to zero.\n"
      ],
      "metadata": {
        "id": "YMcDYfHxgpTL"
      }
    },
    {
      "cell_type": "markdown",
      "source": [
        "6) What is the difference between import and from ... import in Python?\n",
        "- import module:\n",
        "\n",
        "This statement imports the entire module, binding the module object to its name in your namespace. For instance, import math lets you access functions via math.sqrt() or math.pi.\n",
        "Real Python\n",
        "Software Engineering Stack Exchange\n",
        "\n",
        "It's explicit, easy to read, and avoids cluttering your namespace.\n",
        "Stack Overflow\n",
        "Software Engineering Stack Exchange\n",
        "\n",
        "The module initialization (loading and execution) happens exactly once, regardless of how you import it.\n",
        "Software Engineering Stack Exchange\n",
        "\n",
        "Ideal when you need multiple attributes from the module or want to keep code clear about where things come from.\n",
        "\n",
        "- from module import name:\n",
        "\n",
        "This form imports only the named attribute (like a function, class, or variable) from the module, binding it directly in your namespace—so you can use it without the module prefix. Example: after from math import sqrt, you can just write sqrt(x).\n",
        "Tech Skill Guru\n",
        "Software Engineering Stack Exchange\n",
        "\n",
        "Makes code shorter if you're using that function or name a lot—but the module name context is lost.\n",
        "Stack Overflow\n",
        "Software Engineering Stack Exchange\n",
        "\n",
        "Still causes the module to be fully loaded under the hood, even if you only use a part of it."
      ],
      "metadata": {
        "id": "S-eI-F4wg4D5"
      }
    },
    {
      "cell_type": "markdown",
      "source": [
        "7) How can you handle multiple exceptions in Python?\n",
        "\n",
        "- 1. Catch Multiple Exceptions in a Single Block\n",
        "\n",
        " - try:\n",
        "    - result = int(input(\"Enter a number: \")) / int(input(\"Enter another: \"))\n",
        "  - except (ValueError, ZeroDivisionError) as err:\n",
        "    - print(\"Invalid input or division by zero:\", err)\n",
        "\n",
        "- 2.Use Separate except Blocks for Different Exceptions\n",
        "\n",
        " - try:\n",
        "    with open('data.txt') as f:\n",
        "        data = f.read()\n",
        "        number = int(data)\n",
        "   - except FileNotFoundError:\n",
        "    print(\"File not found.\")\n",
        "   - except PermissionError:\n",
        "    print(\"Permission denied.\")\n",
        "- 3.General Catch-All\n",
        "\n",
        " - try:\n",
        "    - do_something()\n",
        " - except Exception as e:\n",
        "    - print(\"An error occurred:\", e)\n"
      ],
      "metadata": {
        "id": "QKBFGZAyhcxn"
      }
    },
    {
      "cell_type": "markdown",
      "source": [
        "8) What is the purpose of the with statement when handling files in Python?\n",
        "\n",
        "- 1. Automatic File Closure\n",
        "Even if an error occurs within the with block, Python will always close the file when exiting the block—just like using try…finally: file.close(), but with much cleaner syntax.\n",
        "book.pythontips.com\n",
        "Built In\n",
        "sytbay.com\n",
        "\n",
        "- 2. Cleaner & More Readable Code\n",
        "It reduces boilerplate and clearly indicates the scope of file usage, making your intentions easier to understand.\n",
        "sytbay.com\n",
        "llego.dev\n",
        "\n",
        "- 3. Better Resource Management\n",
        "Using with lets you avoid lingering open files, resource leaks, or file descriptor exhaustion—issues that can arise if files aren’t properly closed in larger programs."
      ],
      "metadata": {
        "id": "6o4g_WkUh7XA"
      }
    },
    {
      "cell_type": "markdown",
      "source": [
        "9) What is the difference between multithreading and multiprocessing?\n",
        "\n",
        "- Multithreading:\n",
        " - Involves multiple threads running within a single process, sharing the same memory space.\n",
        " - In Python, the Global Interpreter Lock (GIL) allows only one thread to execute Python bytecode at a time—so while threads appear concurrent, they don’t run in true parallel execution.\n",
        " - Best suited for I/O-bound tasks (like network calls or file I/O), where threads spend time waiting and the GIL is released during those wait periods.\n",
        "\n",
        "- Multiprocessing\n",
        " - Involves starting separate processes, each with its own Python interpreter and memory space—including its own GIL.\n",
        " - Achieves true parallelism by running across multiple CPU cores, ideal for CPU-bound tasks.\n",
        " - Trade-offs include higher memory usage and overhead from inter-process communication (often via pickling and IPC mechanisms).\n",
        "\n"
      ],
      "metadata": {
        "id": "jklP7cJdiL5x"
      }
    },
    {
      "cell_type": "markdown",
      "source": [
        "10) What are the advantages of using logging in a program?\n",
        "\n",
        "- 1. Effective Debugging & Troubleshooting:\n",
        "\n",
        " - Logs record what your program was doing at specific moments—capturing errors, stack traces, and unexpected behaviors. This makes it easier to trace issues back to their source and speed up problem resolution.\n",
        "\n",
        "- 2. Continuous Monitoring\n",
        "  - By logging performance metrics like execution times, resource use, and request details, you get visibility into how your application behaves over time. This data is invaluable for spotting trends and proactively addressing bottlenecks.\n",
        "\n",
        "- 3. Security, Audit Trails & Compliance\n",
        " - Logs serve as a historical record of actions—such as user activity, system changes, and access attempts—which is essential for audit compliance and investigating security incidents."
      ],
      "metadata": {
        "id": "EPEv4G4Wi1je"
      }
    },
    {
      "cell_type": "markdown",
      "source": [
        "11)  What is memory management in Python?\n",
        "\n",
        "- Memory management in Python refers to how the language automatically handles allocation, use, and cleanup of memory to ensure your programs run efficiently—without much manual effort from you."
      ],
      "metadata": {
        "id": "_51-SzoRStrp"
      }
    },
    {
      "cell_type": "markdown",
      "source": [
        "12) What are the basic steps involved in exception handling in Python?\n",
        "- try block:\n",
        "  - Put the code that might raise an exception here.\n",
        "\n",
        "  - Python attempts to execute it, but halts this block if an exception occurs and moves to the appropriate except block.\n",
        "- except block:\n",
        "  - Define how to handle errors by specifying exception types (e.g., ZeroDivisionError, ValueError).\n",
        "\n",
        "  - Only the matching except is executed. If none match, the error propagates up.\n",
        "- else block:\n",
        "\n",
        " - Runs only if the try block did not raise any exceptions.\n",
        "\n",
        " - Ideal for code that should execute when everything goes well.\n",
        "\n",
        "- finally block:\n",
        "\n",
        " - Always executes, regardless of whether an exception occurred or was handled—even if there's a return, break, or a new exception raised.\n",
        "\n",
        " - Typically used for cleanup: closing files, releasing resources, etc."
      ],
      "metadata": {
        "id": "fnGYc91gTAVt"
      }
    },
    {
      "cell_type": "markdown",
      "source": [
        "13) Why is memory management important in Python?\n",
        "- Memory management is vital in Python for several key reasons—it ensures your programs run efficiently, reliably, and scalably.\n",
        "\n",
        "- **Efficient Memory Usage :**\n",
        " - Python's automatic memory management—through reference counting and garbage collection—helps reclaim memory when objects are no longer in use, preventing your programs from consuming unnecessary resources\n",
        "\n",
        "- **Avoiding Memory Leaks and Crashes**\n",
        " - Without proper memory management, your application could leak memory, eventually exhausting available memory and crashing. Python's garbage collector tackles such issues by cleaning up unused objects and handling cyclic references\n",
        "- **Handling Large Data Workloads**\n",
        " - In domains like data science or AI, where datasets are massive, effective memory management is essential. Tools like generators help by processing data incrementally rather than holding it all at once in memory"
      ],
      "metadata": {
        "id": "MlyQlrT_TsSW"
      }
    },
    {
      "cell_type": "markdown",
      "source": [
        "14) What is the role of try and except in exception handling?\n",
        "- **try block – The Risk Zone:**\n",
        "\n",
        " - The try block encapsulates code that might raise an exception during execution.\n",
        "\n",
        " - If no exception occurs, execution continues normally, and the except block is skipped.\n",
        "\n",
        " - If an exception does occur within the try block, the remaining code in that block is skipped, and Python transfers control to the appropriate except block.\n",
        "- **except block – The Safety Net**\n",
        " - The except block handles the exception, preventing your program from crashing and instead allowing it to respond gracefully.\n",
        " - You can catch specific exception types (e.g., ValueError, ZeroDivisionError) to tailor responses to different errors, or use a general except to catch all."
      ],
      "metadata": {
        "id": "1A9eq4UbUUIV"
      }
    },
    {
      "cell_type": "markdown",
      "source": [
        "15) How does Python's garbage collection system work?\n",
        "- Python’s garbage collection in its most widely used implementation, CPython, operates through a hybrid system combining reference counting and generational garbage collection. Reference counting immediately deallocates objects when their reference count drops to zero, offering prompt cleanup for the majority of objects.  However, this mechanism alone fails to handle cyclic references, where objects reference each other and never drop to zero. To address this, Python employs a generational garbage collector that organizes objects into three generations (0, 1, and 2): newly created objects start in generation 0, and survivors of collection cycles are promoted to older generations This approach ensures efficient detection and cleanup of reference cycles while reducing overhead, as younger objects are collected more frequently and long-lived objects are scanned less often"
      ],
      "metadata": {
        "id": "tZbGHEHVU3Zn"
      }
    },
    {
      "cell_type": "markdown",
      "source": [
        "16) What is the purpose of the else block in exception handling?\n",
        "- else block: Executes only if the try blocks runs flawlessly—keeping follow-up logic safe from exception interference.\n",
        "- Using else is not mandatory, but it's a useful tool for writing clear, safe, and intention-revealing exception handling code"
      ],
      "metadata": {
        "id": "ztNz9jILVT6M"
      }
    },
    {
      "cell_type": "markdown",
      "source": [
        "17)  What are the common logging levels in Python?\n",
        "- In Python’s built-in logging module, several standard logging levels are defined to indicate the severity or importance of a log message. These levels are:\n",
        "- 1) DEBUG : Provides detailed diagnostic information, useful during development or troubleshooting.\n",
        "- 2) INFO : Conveys general messages about the flow of the program—things working as expected.\n",
        "- 3) WARNING : Signals unexpected situations or potential issues that don't stop execution but should be noted\n",
        "- 4) ERROR : Indicates that a serious problem occurred, preventing some function from completing successfully, though the program might still continue.\n",
        "- 5) CRITICAL : Represents very serious errors that may cause the program to stop running.\n"
      ],
      "metadata": {
        "id": "kz0jMWCQVsVN"
      }
    },
    {
      "cell_type": "markdown",
      "source": [
        "18) What is the difference between os.fork() and multiprocessing in Python?\n",
        "\n",
        "- os.fork() is a blunt instrument for duplicating processes—it’s fast and effective in simple, thread-free contexts on POSIX systems. But it carries considerable risks when threads or complex state are involved. In contrast, Python’s multiprocessing module offers safer, more portable process creation—especially via the spawn method—making it better suited for most modern applications"
      ],
      "metadata": {
        "id": "yW_Uio1-WRb_"
      }
    },
    {
      "cell_type": "markdown",
      "source": [
        "19) What is the importance of closing a file in Python?\n",
        "- Closing a file in Python is a fundamental best practice—it not only preserves data integrity but also ensures efficient system resource usage and smooth program behavior.\n",
        " - it ensures data is saved properly\n",
        " - it Prevents File Locking Issues\n",
        " - Builds Robust and Maintainable Code\n",
        "Explicitly closing files, especially using constructs like with open(...) (context managers), clearly indicates when file handling ends and ensures cleanup even in the face of errors or exceptions"
      ],
      "metadata": {
        "id": "efEm2NvqWi3c"
      }
    },
    {
      "cell_type": "markdown",
      "source": [
        "20)  What is the difference between file.read() and file.readline() in Python?\n",
        "- readline() reads a single line of text. … read() reads everything if called without arguments, or exact number of letters/bytes if given a length.\n",
        "- file.read():\n",
        " - Useful when you need to process the full text at once, such as performing global manipulations, regex matching, or splitting on delimiters.\n",
        "- file.readline():\n",
        " - Ideal when you want to process files incrementally—keeping memory usage low or managing logic line-by-line (especially if file format changes are possible).\n"
      ],
      "metadata": {
        "id": "-bocASW1W-0H"
      }
    },
    {
      "cell_type": "markdown",
      "source": [
        "21) What is the logging module in Python used for?\n",
        "- The logging module in Python serves as the standardized, flexible system for tracking and recording events in your applications. Unlike print() statements, it offers structured, configurable, and reliable logging that can evolve with your software—from simple scripts to production-grade systems. Here's how and why it's used:"
      ],
      "metadata": {
        "id": "iyJtKoDxXdWr"
      }
    },
    {
      "cell_type": "markdown",
      "source": [
        "22) What is the os module in Python used for in file handling?\n",
        "- In Python, the os module is a built-in utility that provides a portable, cross-platform interface for interacting with the operating system—particularly useful for file handling and filesystem operations.\n",
        "- Navigate the Filesystem:\n",
        "\n",
        " - os.getcwd() → Retrieve the current working directory.\n",
        "\n",
        " - os.chdir(path) → Change the working directory\n",
        "- List Files and Manage File Metadata:\n",
        "\n",
        " - os.listdir(path) → List files and subdirectories in a given directory.\n",
        "\n",
        " - os.stat(path) → Fetch file metadata like size, modification timestamp, and permissions.\n",
        "\n",
        " - os.remove(path) / os.rmdir(path) → Delete files or empty directories."
      ],
      "metadata": {
        "id": "O495xkqEXpc5"
      }
    },
    {
      "cell_type": "markdown",
      "source": [
        "23) What are the challenges associated with memory management in Python?\n",
        "\n",
        "- Reference Counting & Circular References\n",
        " - Python primarily uses reference counting: objects are deallocated when their reference count drops to zero. However, this doesn't catch objects involved in circular references, which the garbage collector (GC) handles—but only periodically. Circular references, especially those involving __del__ methods, may not be collected promptly—or at all—potentially causing memory leaks.\n",
        "- Limited Control & Performance Overhead\n",
        " - Python’s automatic memory management offers convenience but limits developer control over allocation and deallocation—less precise than in languages like C or C++. The garbage collector adds runtime overhead, especially in large or cyclic object graphs, which can impair performance.\n",
        "- Resource Leaks (Beyond Memory)\n",
        " - Python’s GC isn’t responsible for external resources like file handles, sockets, or database connections. If not properly managed—such as via with statements or try/finally blocks—these resources may leak, even if memory is freed."
      ],
      "metadata": {
        "id": "ll_L-gG5YPM0"
      }
    },
    {
      "cell_type": "markdown",
      "source": [
        "24) How do you raise an exception manually in Python?\n",
        "- In Python, we manually raise an exception using the raise keyword, which interrupts the normal flow of our program and signals an error. we can raise built-in exceptions or our own custom ones, and even re-raise caught exceptions to preserve their contex.\n",
        "- To raise an exception, you use the raise statement followed by the exception class (or an instance), optionally supplying a custom message, for example: raise ValueError(\"Invalid input!\"). It’s best practice to choose a specific exception type that accurately reflects the error, rather than using a generic Exception, as doing so makes your error handling more precise and easier to debug"
      ],
      "metadata": {
        "id": "ZBDNBXo8YyqY"
      }
    },
    {
      "cell_type": "markdown",
      "source": [
        "25) Why is it important to use multithreading in certain applications?\n",
        "- Multithreading is crucial in many applications because it allows tasks to run concurrently, improving responsiveness (e.g., for GUIs and servers), performance (particularly on multi-core systems), and overall resource utilization (by keeping CPUs busy during I/O waits). It also supports more modular and maintainable code by isolating concerns across threads. However, it demands careful design to avoid synchronization issues."
      ],
      "metadata": {
        "id": "hDZoNbuOZmr9"
      }
    },
    {
      "cell_type": "markdown",
      "source": [
        "**Practical** **Questions**"
      ],
      "metadata": {
        "id": "WWDdzn1BamyN"
      }
    },
    {
      "cell_type": "code",
      "source": [
        "#1) How can you open a file for writing in Python and write a string to it?\n",
        "\n",
        "with open(\"file.txt\", \"w\") as f:\n",
        "    f.write(\"Hi Shaik\")"
      ],
      "metadata": {
        "id": "8dWhKejaar5b"
      },
      "execution_count": null,
      "outputs": []
    },
    {
      "cell_type": "code",
      "source": [
        "# 2) Write a Python program to read the contents of a file and print each line?\n",
        "\n",
        "with open('file.txt', 'r') as file:\n",
        "    lines = file.readlines()\n",
        "for line in lines:\n",
        "    print(line.strip())\n",
        "# Note:  Using .strip() removes unwanted newline or whitespace"
      ],
      "metadata": {
        "colab": {
          "base_uri": "https://localhost:8080/"
        },
        "id": "pFf28l-J01Xl",
        "outputId": "eb651c49-137d-416c-a94f-7fa8d0857093"
      },
      "execution_count": null,
      "outputs": [
        {
          "output_type": "stream",
          "name": "stdout",
          "text": [
            "Hi Shaik\n"
          ]
        }
      ]
    },
    {
      "cell_type": "code",
      "source": [
        "# 3) How would you handle a case where the file doesn't exist while trying to open it for reading?\n",
        "\n",
        "try:\n",
        "    with open(\"some_file.txt\", \"r\") as file:\n",
        "        content = file.read()\n",
        "        print(content)\n",
        "except FileNotFoundError:\n",
        "    print(\"Error: File not found.\")"
      ],
      "metadata": {
        "colab": {
          "base_uri": "https://localhost:8080/"
        },
        "id": "dO1jXlhe1h6f",
        "outputId": "b7db1f22-b36a-4837-b931-3c06217bfc2a"
      },
      "execution_count": null,
      "outputs": [
        {
          "output_type": "stream",
          "name": "stdout",
          "text": [
            "Error: File not found.\n"
          ]
        }
      ]
    },
    {
      "cell_type": "code",
      "source": [
        "#4) Write a Python script that reads from one file and writes its content to another file?\n",
        "\n",
        "import shutil\n",
        "\n",
        "try:\n",
        "    shutil.copyfile('source.txt', 'destination.txt')\n",
        "    print(\"File copied using shutil.copyfile()\")\n",
        "except FileNotFoundError:\n",
        "    print(\"Error: Source file not found.\")\n",
        "except Exception as e:\n",
        "    print(f\"Error during copy: {e}\")"
      ],
      "metadata": {
        "colab": {
          "base_uri": "https://localhost:8080/"
        },
        "id": "l16zYyRh1yR7",
        "outputId": "18494e08-98b7-4cda-c274-c4576dd6e4f3"
      },
      "execution_count": null,
      "outputs": [
        {
          "output_type": "stream",
          "name": "stdout",
          "text": [
            "Error: Source file not found.\n"
          ]
        }
      ]
    },
    {
      "cell_type": "code",
      "source": [
        "# 5) How would you catch and handle division by zero error in Python?\n",
        "\n",
        "def divide_input():\n",
        "    try:\n",
        "        a = float(input(\"Numerator: \"))\n",
        "        b = float(input(\"Denominator: \"))\n",
        "        result = a / b\n",
        "    except ZeroDivisionError:\n",
        "        print(\"Error: Cannot divide by zero.\")\n",
        "    except ValueError:\n",
        "        print(\"Error: Please enter valid numbers.\")\n",
        "    else:\n",
        "        print(\"Result:\", result)\n",
        "divide_input()"
      ],
      "metadata": {
        "colab": {
          "base_uri": "https://localhost:8080/"
        },
        "id": "AlDIaMUM2ano",
        "outputId": "dbe4961f-75f4-4b9d-a056-7ad0043e532d"
      },
      "execution_count": null,
      "outputs": [
        {
          "output_type": "stream",
          "name": "stdout",
          "text": [
            "Numerator: 1\n",
            "Denominator: 1\n",
            "Result: 1.0\n"
          ]
        }
      ]
    },
    {
      "cell_type": "code",
      "source": [
        "# 6) Write a Python program that logs an error message to a log file when a division by zero exception occurs?\n",
        "\n",
        "import logging\n",
        "\n",
        "# Configure logging to write error messages (and above) to a file\n",
        "logging.basicConfig(\n",
        "    filename='error.log',\n",
        "    level=logging.ERROR,\n",
        "    format='%(asctime)s - %(levelname)s - %(message)s'\n",
        ")\n",
        "\n",
        "def safe_divide(a, b):\n",
        "    try:\n",
        "        return a / b\n",
        "    except ZeroDivisionError:\n",
        "        # Logs the error message and the traceback\n",
        "        logging.exception(\"Attempted division by zero\")\n",
        "        return None\n",
        "\n",
        "# Example usage\n",
        "result = safe_divide(10, 0)\n",
        "if result is None:\n",
        "    print(\"Division failed, see 'error.log' for details.\")\n"
      ],
      "metadata": {
        "colab": {
          "base_uri": "https://localhost:8080/"
        },
        "id": "lFNN-zQj3E_T",
        "outputId": "1b79683b-7494-41e8-9507-ac1cae60579c"
      },
      "execution_count": null,
      "outputs": [
        {
          "output_type": "stream",
          "name": "stderr",
          "text": [
            "ERROR:root:Attempted division by zero\n",
            "Traceback (most recent call last):\n",
            "  File \"/tmp/ipython-input-3261660236.py\", line 14, in safe_divide\n",
            "    return a / b\n",
            "           ~~^~~\n",
            "ZeroDivisionError: division by zero\n"
          ]
        },
        {
          "output_type": "stream",
          "name": "stdout",
          "text": [
            "Division failed, see 'error.log' for details.\n"
          ]
        }
      ]
    },
    {
      "cell_type": "code",
      "source": [
        "# 7)  How do you log information at different levels (INFO, ERROR, WARNING) in Python using the logging module?\n",
        "\n",
        "import logging\n",
        "\n",
        "logging.basicConfig(\n",
        "    level=logging.INFO,\n",
        "    format=\"%(asctime)s - %(levelname)s - %(name)s - %(message)s\"\n",
        ")\n",
        "\n",
        "logging.debug(\"Debugging details\")     # Won't show\n",
        "logging.info(\"Starting process\")       # Will show\n",
        "logging.warning(\"Something's fishy\")   # Will show\n",
        "logging.error(\"An error occurred\")     # Will show\n",
        "logging.critical(\"Critical failure!\")  # Will show"
      ],
      "metadata": {
        "colab": {
          "base_uri": "https://localhost:8080/"
        },
        "id": "_U_bY3-Y3gLl",
        "outputId": "af56e65e-359b-44dc-b909-1ce2b0600578"
      },
      "execution_count": null,
      "outputs": [
        {
          "output_type": "stream",
          "name": "stderr",
          "text": [
            "WARNING:root:Something's fishy\n",
            "ERROR:root:An error occurred\n",
            "CRITICAL:root:Critical failure!\n"
          ]
        }
      ]
    },
    {
      "cell_type": "code",
      "source": [
        "# 8) Write a program to handle a file opening error using exception handling?\n",
        "\n",
        "def read_file_lines(filename):\n",
        "    file = None\n",
        "    try:\n",
        "        file = open(filename, 'r')\n",
        "    except FileNotFoundError:\n",
        "        print(f\"Error: File '{filename}' not found.\")\n",
        "    except IOError as e:\n",
        "        print(f\"Error opening file '{filename}': {e}\")\n",
        "    else:\n",
        "        print(f\"Contents of '{filename}':\")\n",
        "        for line in file:\n",
        "            print(line.rstrip())\n",
        "    finally:\n",
        "        if file:\n",
        "            file.close()\n",
        "            print(\"File closed (in finally block).\")\n",
        "        else:\n",
        "            print(\"No file to close.\")\n",
        "read_file_lines(\"file.txt\")"
      ],
      "metadata": {
        "colab": {
          "base_uri": "https://localhost:8080/"
        },
        "id": "_PCUjmGt4Dxo",
        "outputId": "a362c0fb-d934-4d16-ec14-c28840c102aa"
      },
      "execution_count": null,
      "outputs": [
        {
          "output_type": "stream",
          "name": "stdout",
          "text": [
            "Contents of 'file.txt':\n",
            "Hi Shaik\n",
            "File closed (in finally block).\n"
          ]
        }
      ]
    },
    {
      "cell_type": "code",
      "source": [
        "# 9) How can you read a file line by line and store its content in a list in Python?\n",
        "\n",
        "with open('file.txt', 'r', encoding='utf-8') as f:\n",
        "    lines = [line.strip() for line in f.readlines()]"
      ],
      "metadata": {
        "id": "1DGjNE6g44bG"
      },
      "execution_count": null,
      "outputs": []
    },
    {
      "cell_type": "code",
      "source": [
        "# 10) How can you append data to an existing file in Python?\n",
        "\n",
        "with open(\"file.txt\", \"a\") as file:\n",
        "    file.write(\"This assignment is about file handling in python.\\n\")"
      ],
      "metadata": {
        "id": "9zxRMUUq5UWD"
      },
      "execution_count": null,
      "outputs": []
    },
    {
      "cell_type": "code",
      "source": [
        "# 11) Write a Python program that uses a try-except block to handle an error when attempting to access a dictionary key that doesn't exist?\n",
        "\n",
        "def get_value(dictionary, key):\n",
        "    try:\n",
        "        return dictionary[key]\n",
        "    except KeyError:\n",
        "        print(f\"Error: The key '{key}' was not found in the dictionary.\")\n",
        "        return None\n",
        "\n",
        "# Example usage:\n",
        "data = {'apple': 3, 'banana': 5}\n",
        "result = get_value(data, 'orange')  # Key 'orange' doesn't exist\n",
        "print(\"Result:\", result)"
      ],
      "metadata": {
        "colab": {
          "base_uri": "https://localhost:8080/"
        },
        "id": "cfzhEqGS5xEa",
        "outputId": "17cba350-d5d0-462f-d4e9-63532404ed6d"
      },
      "execution_count": null,
      "outputs": [
        {
          "output_type": "stream",
          "name": "stdout",
          "text": [
            "Error: The key 'orange' was not found in the dictionary.\n",
            "Result: None\n"
          ]
        }
      ]
    },
    {
      "cell_type": "code",
      "source": [
        "# 12) Write a program that demonstrates using multiple except blocks to handle different types of exceptions?\n",
        "\n",
        "def process_input(data, divisor, key, dictionary):\n",
        "    try:\n",
        "        # Attempt a few operations that may raise different exceptions\n",
        "        number = int(data)                     # Could raise ValueError\n",
        "        result = 100 / divisor                # Could raise ZeroDivisionError\n",
        "        value = dictionary[key]               # Could raise KeyError\n",
        "    except ValueError:\n",
        "        print(\"Error: Input data is not a valid integer.\")\n",
        "    except ZeroDivisionError:\n",
        "        print(\"Error: Cannot divide by zero.\")\n",
        "    except KeyError:\n",
        "        print(f\"Error: The key '{key}' was not found in the dictionary.\")\n",
        "    else:\n",
        "        print(f\"Success! number={number}, result={result}, value={value}\")\n",
        "    finally:\n",
        "        print(\"Execution of try-except block completed.\\n\")\n",
        "\n",
        "# Example usage\n",
        "my_dict = {\"a\": 10, \"b\": 20}\n",
        "\n",
        "print(\"Test 1: Invalid integer\")\n",
        "process_input(\"not_an_int\", 5, \"a\", my_dict)\n",
        "\n",
        "print(\"Test 2: Division by zero\")\n",
        "process_input(\"50\", 0, \"a\", my_dict)\n",
        "\n",
        "print(\"Test 3: Missing dictionary key\")\n",
        "process_input(\"30\", 5, \"c\", my_dict)\n",
        "\n",
        "print(\"Test 4: All good\")\n",
        "process_input(\"40\", 4, \"b\", my_dict)"
      ],
      "metadata": {
        "colab": {
          "base_uri": "https://localhost:8080/"
        },
        "id": "M0PTzlJF6DuA",
        "outputId": "a903f0fa-7373-4dff-aecd-1899d6acb857"
      },
      "execution_count": null,
      "outputs": [
        {
          "output_type": "stream",
          "name": "stdout",
          "text": [
            "Test 1: Invalid integer\n",
            "Error: Input data is not a valid integer.\n",
            "Execution of try-except block completed.\n",
            "\n",
            "Test 2: Division by zero\n",
            "Error: Cannot divide by zero.\n",
            "Execution of try-except block completed.\n",
            "\n",
            "Test 3: Missing dictionary key\n",
            "Error: The key 'c' was not found in the dictionary.\n",
            "Execution of try-except block completed.\n",
            "\n",
            "Test 4: All good\n",
            "Success! number=40, result=25.0, value=20\n",
            "Execution of try-except block completed.\n",
            "\n"
          ]
        }
      ]
    },
    {
      "cell_type": "code",
      "source": [
        "# 13) How would you check if a file exists before attempting to read it in Python?\n",
        "\n",
        "import os\n",
        "\n",
        "file_path = 'file.txt'\n",
        "\n",
        "if os.path.isfile(file_path):\n",
        "    print(\"File exists and is a regular file.\")\n",
        "elif os.path.exists(file_path):\n",
        "    print(\"Path exists, but it's not a file.\")\n",
        "else:\n",
        "    print(\"File does not exist.\")"
      ],
      "metadata": {
        "colab": {
          "base_uri": "https://localhost:8080/"
        },
        "id": "Rz5wb6BL6XF7",
        "outputId": "1bfc8176-495d-426d-f041-277ab18ff2df"
      },
      "execution_count": null,
      "outputs": [
        {
          "output_type": "stream",
          "name": "stdout",
          "text": [
            "File exists and is a regular file.\n"
          ]
        }
      ]
    },
    {
      "cell_type": "code",
      "source": [
        "# 14) Write a program that uses the logging module to log both informational and error messages?\n",
        "\n",
        "import logging\n",
        "\n",
        "# Configure basic logging to file and/or console\n",
        "logging.basicConfig(\n",
        "    filename='app.log',               # Log output file\n",
        "    level=logging.INFO,               # Minimum severity to capture\n",
        "    format='%(asctime)s - %(levelname)s - %(message)s',\n",
        "    datefmt='%Y-%m-%d %H:%M:%S'\n",
        ")\n",
        "\n",
        "def divide(a, b):\n",
        "    logging.info(\"divide() called with a=%s, b=%s\", a, b)\n",
        "    try:\n",
        "        result = a / b\n",
        "    except ZeroDivisionError:\n",
        "        logging.error(\"Division by zero error when dividing %s by %s\", a, b, exc_info=True)\n",
        "        return None\n",
        "    else:\n",
        "        logging.info(\"Result of division: %s\", result)\n",
        "        return result\n",
        "\n",
        "if __name__ == \"__main__\":\n",
        "    divide(10, 2)  # Logs INFO about call and result\n",
        "    divide(5, 0)   # Logs INFO about call and then ERROR with traceback"
      ],
      "metadata": {
        "colab": {
          "base_uri": "https://localhost:8080/"
        },
        "id": "fDeEjB2Y6yC_",
        "outputId": "bf5ae0ac-b47d-424f-90ea-8ddf9f54166a"
      },
      "execution_count": null,
      "outputs": [
        {
          "output_type": "stream",
          "name": "stderr",
          "text": [
            "ERROR:root:Division by zero error when dividing 5 by 0\n",
            "Traceback (most recent call last):\n",
            "  File \"/tmp/ipython-input-2055089753.py\", line 16, in divide\n",
            "    result = a / b\n",
            "             ~~^~~\n",
            "ZeroDivisionError: division by zero\n"
          ]
        }
      ]
    },
    {
      "cell_type": "code",
      "source": [
        "# 15) Write a Python program that prints the content of a file and handles the case when the file is empty?\n",
        "\n",
        "def print_file_or_empty(path):\n",
        "    try:\n",
        "        with open(path, 'r', encoding='utf-8') as f:\n",
        "            first_char = f.read(1)  # Read just one character\n",
        "            if not first_char:\n",
        "                print(\"File is empty.\")\n",
        "            else:\n",
        "                f.seek(0)  # Reset pointer to start\n",
        "                print(f.read())\n",
        "    except FileNotFoundError:\n",
        "        print(f\"Error: File '{path}' not found.\")\n",
        "\n",
        "print_file_or_empty('some_file.txt')"
      ],
      "metadata": {
        "colab": {
          "base_uri": "https://localhost:8080/"
        },
        "id": "j-FmujBA7G0n",
        "outputId": "6be4e66b-09cc-4b8a-e7c4-31b76c6e04ca"
      },
      "execution_count": null,
      "outputs": [
        {
          "output_type": "stream",
          "name": "stdout",
          "text": [
            "Error: File 'some_file.txt' not found.\n"
          ]
        }
      ]
    },
    {
      "cell_type": "code",
      "source": [
        "# 16) Demonstrate how to use memory profiling to check the memory usage of a small program?\n",
        "\n",
        "!pip install -U memory_profiler\n",
        "\n",
        "from memory_profiler import profile, memory_usage\n",
        "\n",
        "@profile\n",
        "def allocate_memory():\n",
        "    # Allocates two lists of modest size\n",
        "    a = [i for i in range(10000)]\n",
        "    b = [i ** 2 for i in range(10000)]\n",
        "    return len(a) + len(b)\n",
        "\n",
        "def measure_over_time():\n",
        "    # Function to profile over time\n",
        "    data = [i * 2 for i in range(500000)]\n",
        "    return sum(data)\n",
        "\n",
        "if __name__ == \"__main__\":\n",
        "    print(\"Running allocate_memory() with line-by-line profiling:\")\n",
        "    allocate_memory()\n",
        "\n",
        "    print(\"\\nMeasuring memory usage over time:\")\n",
        "    mem_usage = memory_usage((measure_over_time, (), {}), interval=0.1)\n",
        "    print(\"Memory usage (MiB) over time:\", mem_usage)"
      ],
      "metadata": {
        "colab": {
          "base_uri": "https://localhost:8080/"
        },
        "id": "jWRX1vuQ7qUZ",
        "outputId": "51f5cff6-e196-4d29-a43f-3f90f8a5777b"
      },
      "execution_count": null,
      "outputs": [
        {
          "output_type": "stream",
          "name": "stdout",
          "text": [
            "Requirement already satisfied: memory_profiler in /usr/local/lib/python3.11/dist-packages (0.61.0)\n",
            "Requirement already satisfied: psutil in /usr/local/lib/python3.11/dist-packages (from memory_profiler) (5.9.5)\n",
            "Running allocate_memory() with line-by-line profiling:\n",
            "ERROR: Could not find file /tmp/ipython-input-3845237132.py\n",
            "\n",
            "Measuring memory usage over time:\n",
            "Memory usage (MiB) over time: [109.421875, 109.55078125, 109.55078125, 114.45703125, 119.82421875, 109.55078125]\n"
          ]
        }
      ]
    },
    {
      "cell_type": "code",
      "source": [
        "# 17) Write a Python program to create and write a list of numbers to a file, one number per line?\n",
        "\n",
        "def write_numbers_to_file(filename, numbers):\n",
        "    \"\"\"\n",
        "    Writes each number from the list `numbers` into the file specified by `filename`,\n",
        "    placing each number on its own line.\n",
        "    \"\"\"\n",
        "    with open(filename, 'w', encoding='utf-8') as f:\n",
        "        for num in numbers:\n",
        "            f.write(f\"{num}\\n\")\n",
        "    print(f\"Successfully wrote {len(numbers)} numbers to '{filename}'.\")\n",
        "\n",
        "if __name__ == \"__main__\":\n",
        "    # Create a list of numbers from 1 to 10\n",
        "    my_numbers = list(range(1, 11))\n",
        "\n",
        "    # Specify the output file name\n",
        "    filepath = \"numbers.txt\"\n",
        "\n",
        "    # Write numbers to the file\n",
        "    write_numbers_to_file(filepath, my_numbers)"
      ],
      "metadata": {
        "colab": {
          "base_uri": "https://localhost:8080/"
        },
        "id": "b9_XjLYC82RN",
        "outputId": "d94a28be-cee7-47e0-8ce7-6326b2d3f139"
      },
      "execution_count": null,
      "outputs": [
        {
          "output_type": "stream",
          "name": "stdout",
          "text": [
            "Successfully wrote 10 numbers to 'numbers.txt'.\n"
          ]
        }
      ]
    },
    {
      "cell_type": "code",
      "source": [
        "# 18) How would you implement a basic logging setup that logs to a file with rotation after 1MB?\n",
        "\n",
        "import logging\n",
        "from logging.handlers import RotatingFileHandler\n",
        "\n",
        "# Step 1: Get a logger and set its level\n",
        "logger = logging.getLogger(\"my_logger\")\n",
        "logger.setLevel(logging.INFO)\n",
        "\n",
        "# Step 2: Create a rotating file handler (1 MB limit, keep up to 3 backups)\n",
        "handler = RotatingFileHandler(\"app.log\", maxBytes=1_000_000, backupCount=3)\n",
        "\n",
        "# Step 3: (Optional) Add a readable format to each log entry\n",
        "formatter = logging.Formatter(\"%(asctime)s - %(levelname)s - %(message)s\")\n",
        "handler.setFormatter(formatter)\n",
        "\n",
        "# Step 4: Add the handler to the logger\n",
        "logger.addHandler(handler)\n",
        "\n",
        "# Test the logger\n",
        "for i in range(10):\n",
        "    logger.info(f\"Logging message {i}\")\n",
        "\n",
        "print(\"Logging done. Check app.log and rotated files.\")"
      ],
      "metadata": {
        "colab": {
          "base_uri": "https://localhost:8080/"
        },
        "id": "DADxO1Ox9_lH",
        "outputId": "0769f1ca-73c3-46e5-d7bb-16a0a65f67ab"
      },
      "execution_count": null,
      "outputs": [
        {
          "output_type": "stream",
          "name": "stderr",
          "text": [
            "INFO:my_logger:Logging message 0\n",
            "INFO:my_logger:Logging message 1\n",
            "INFO:my_logger:Logging message 2\n",
            "INFO:my_logger:Logging message 3\n",
            "INFO:my_logger:Logging message 4\n",
            "INFO:my_logger:Logging message 5\n",
            "INFO:my_logger:Logging message 6\n",
            "INFO:my_logger:Logging message 7\n",
            "INFO:my_logger:Logging message 8\n",
            "INFO:my_logger:Logging message 9\n"
          ]
        },
        {
          "output_type": "stream",
          "name": "stdout",
          "text": [
            "Logging done. Check app.log and rotated files.\n"
          ]
        }
      ]
    },
    {
      "cell_type": "code",
      "source": [
        "# 19) Write a program that handles both IndexError and KeyError using a try-except block?\n",
        "\n",
        "def safe_access(my_list, index, my_dict, key):\n",
        "    try:\n",
        "        # Attempt to access the list and the dictionary\n",
        "        list_value = my_list[index]\n",
        "        dict_value = my_dict[key]\n",
        "    except IndexError:\n",
        "        print(f\"IndexError caught: index {index} is out of range.\")\n",
        "    except KeyError:\n",
        "        print(f\"KeyError caught: key '{key}' is not found in the dictionary.\")\n",
        "    else:\n",
        "        print(f\"Successfully fetched values → List[{index}] = {list_value}, Dict['{key}'] = {dict_value}\")\n",
        "    finally:\n",
        "        print(\"Execution of safe_access complete.\\n\")\n",
        "if __name__ == \"__main__\":\n",
        "    sample_list = [10, 20, 30]\n",
        "    sample_dict = {\"a\": 1, \"b\": 2, \"c\": 3}\n",
        "\n",
        "    print(\"Test 1: Invalid list index\")\n",
        "    safe_access(sample_list, 5, sample_dict, \"a\")\n",
        "\n",
        "    print(\"Test 2: Missing dictionary key\")\n",
        "    safe_access(sample_list, 1, sample_dict, \"z\")\n",
        "\n",
        "    print(\"Test 3: All valid access\")\n",
        "    safe_access(sample_list, 2, sample_dict, \"c\")"
      ],
      "metadata": {
        "colab": {
          "base_uri": "https://localhost:8080/"
        },
        "id": "g_cAFHZN-JqF",
        "outputId": "0fe56544-a716-40d8-de11-67e019519a29"
      },
      "execution_count": null,
      "outputs": [
        {
          "output_type": "stream",
          "name": "stdout",
          "text": [
            "Test 1: Invalid list index\n",
            "IndexError caught: index 5 is out of range.\n",
            "Execution of safe_access complete.\n",
            "\n",
            "Test 2: Missing dictionary key\n",
            "KeyError caught: key 'z' is not found in the dictionary.\n",
            "Execution of safe_access complete.\n",
            "\n",
            "Test 3: All valid access\n",
            "Successfully fetched values → List[2] = 30, Dict['c'] = 3\n",
            "Execution of safe_access complete.\n",
            "\n"
          ]
        }
      ]
    },
    {
      "cell_type": "code",
      "source": [
        "# 20) How would you open a file and read its contents using a context manager in Python?\n",
        "\n",
        "def read_file_contents(file_path):\n",
        "    try:\n",
        "        with open(file_path, 'r', encoding='utf-8') as f:\n",
        "            contents = f.read()\n",
        "        print(\"File contents:\")\n",
        "        print(contents)\n",
        "    except FileNotFoundError:\n",
        "        print(f\"Error: The file '{file_path}' does not exist.\")\n",
        "    except PermissionError:\n",
        "        print(f\"Error: Permission denied when accessing '{file_path}'.\")\n",
        "read_file_contents('file.txt')"
      ],
      "metadata": {
        "colab": {
          "base_uri": "https://localhost:8080/"
        },
        "id": "OpLbqJsJ-mBu",
        "outputId": "09dfa5fd-0365-4d93-abf2-144a84d780fb"
      },
      "execution_count": null,
      "outputs": [
        {
          "output_type": "stream",
          "name": "stdout",
          "text": [
            "File contents:\n",
            "Hi Shaik\n"
          ]
        }
      ]
    },
    {
      "cell_type": "code",
      "source": [
        "# 21) Write a Python program that reads a file and prints the number of occurrences of a specific word?\n",
        "\n",
        "filename = input(\"Enter filename: \")\n",
        "search_word = input(\"Enter word to search: \")\n",
        "\n",
        "count = 0\n",
        "with open(filename, 'r') as file:\n",
        "    for line in file:\n",
        "        words = line.split()\n",
        "        for w in words:\n",
        "            if w == search_word:\n",
        "                count += 1\n",
        "\n",
        "print(f'The word \"{search_word}\" was found {count} times.')"
      ],
      "metadata": {
        "colab": {
          "base_uri": "https://localhost:8080/"
        },
        "id": "Uh9Dex-Q_KWu",
        "outputId": "a482d417-8986-42d7-cfad-7441c0a49e2b"
      },
      "execution_count": null,
      "outputs": [
        {
          "output_type": "stream",
          "name": "stdout",
          "text": [
            "Enter filename: file.txt\n",
            "Enter word to search: H\n",
            "The word \"H\" was found 0 times.\n"
          ]
        }
      ]
    },
    {
      "cell_type": "code",
      "source": [
        "# 22) How can you check if a file is empty before attempting to read its contents?\n",
        "\n",
        "file_path = input(\"Enter the file path: \")\n",
        "\n",
        "try:\n",
        "    with open(file_path, 'r') as f:\n",
        "        first_char = f.read(1)\n",
        "        if not first_char:\n",
        "            print(\"File is empty\")\n",
        "        else:\n",
        "            print(\"File is not empty\")\n",
        "            # Proceed with reading as needed\n",
        "except FileNotFoundError:\n",
        "    print(\"File does not exist\")\n",
        "except OSError as e:\n",
        "    print(f\"Error accessing the file: {e}\")"
      ],
      "metadata": {
        "colab": {
          "base_uri": "https://localhost:8080/"
        },
        "id": "oUFRcAzC_o87",
        "outputId": "fe1386a5-b0e7-40d7-9b0c-205f46f06c82"
      },
      "execution_count": null,
      "outputs": [
        {
          "output_type": "stream",
          "name": "stdout",
          "text": [
            "Enter the file path: file.txt\n",
            "File is not empty\n"
          ]
        }
      ]
    },
    {
      "cell_type": "code",
      "source": [
        "# 23)  Write a Python program that writes to a log file when an error occurs during file handling?\n",
        "\n",
        "import logging\n",
        "\n",
        "# Configure logging to write messages to a file with timestamp and level\n",
        "logging.basicConfig(\n",
        "    filename='error.log',\n",
        "    filemode='a',  # 'a' to append logs, use 'w' to overwrite\n",
        "    level=logging.ERROR,\n",
        "    format='%(asctime)s - %(levelname)s - %(message)s'\n",
        ")\n",
        "\n",
        "def process_file(file_path):\n",
        "    try:\n",
        "        with open(file_path, 'r') as f:\n",
        "            data = f.read()\n",
        "            # Example processing—replace with your logic\n",
        "            print(\"File content preview:\", data[:100])\n",
        "    except Exception as e:\n",
        "        # Log the exception with full traceback\n",
        "        logging.exception(f\"Error handling file: '{file_path}'\")\n",
        "        print(f\"An error occurred. Details have been logged to 'error.log'.\")\n",
        "\n",
        "if __name__ == \"__main__\":\n",
        "    path = input(\"Enter the file path: \")\n",
        "    process_file(path)"
      ],
      "metadata": {
        "colab": {
          "base_uri": "https://localhost:8080/"
        },
        "id": "2xNwwR1uAFFG",
        "outputId": "f9718bc9-8e3d-4237-b205-59ef49d54d5b"
      },
      "execution_count": null,
      "outputs": [
        {
          "name": "stdout",
          "output_type": "stream",
          "text": [
            "Enter the file path: s.txt\n"
          ]
        },
        {
          "output_type": "stream",
          "name": "stderr",
          "text": [
            "ERROR:root:Error handling file: 's.txt'\n",
            "Traceback (most recent call last):\n",
            "  File \"/tmp/ipython-input-159666315.py\", line 15, in process_file\n",
            "    with open(file_path, 'r') as f:\n",
            "         ^^^^^^^^^^^^^^^^^^^^\n",
            "FileNotFoundError: [Errno 2] No such file or directory: 's.txt'\n"
          ]
        },
        {
          "output_type": "stream",
          "name": "stdout",
          "text": [
            "An error occurred. Details have been logged to 'error.log'.\n"
          ]
        }
      ]
    }
  ]
}